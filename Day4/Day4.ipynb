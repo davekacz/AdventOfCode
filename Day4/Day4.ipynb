{
 "metadata": {
  "language_info": {
   "codemirror_mode": {
    "name": "ipython",
    "version": 3
   },
   "file_extension": ".py",
   "mimetype": "text/x-python",
   "name": "python",
   "nbconvert_exporter": "python",
   "pygments_lexer": "ipython3",
   "version": "3.7.7-final"
  },
  "orig_nbformat": 2,
  "kernelspec": {
   "name": "python3",
   "display_name": "Python 3"
  }
 },
 "nbformat": 4,
 "nbformat_minor": 2,
 "cells": [
  {
   "cell_type": "code",
   "execution_count": null,
   "metadata": {},
   "outputs": [],
   "source": [
    "--- Day 4: Passport Processing ---\n",
    "You arrive at the airport only to realize that you grabbed your North Pole Credentials instead of your passport. While these documents are extremely similar, North Pole Credentials aren't issued by a country and therefore aren't actually valid documentation for travel in most of the world.\n",
    "\n",
    "It seems like you're not the only one having problems, though; a very long line has formed for the automatic passport scanners, and the delay could upset your travel itinerary.\n",
    "\n",
    "Due to some questionable network security, you realize you might be able to solve both of these problems at the same time.\n",
    "\n",
    "The automatic passport scanners are slow because they're having trouble detecting which passports have all required fields. The expected fields are as follows:\n",
    "\n",
    "byr (Birth Year)\n",
    "iyr (Issue Year)\n",
    "eyr (Expiration Year)\n",
    "hgt (Height)\n",
    "hcl (Hair Color)\n",
    "ecl (Eye Color)\n",
    "pid (Passport ID)\n",
    "cid (Country ID)\n",
    "Passport data is validated in batch files (your puzzle input). Each passport is represented as a sequence of key:value pairs separated by spaces or newlines. Passports are separated by blank lines.\n",
    "\n",
    "Here is an example batch file containing four passports:\n",
    "\n",
    "ecl:gry pid:860033327 eyr:2020 hcl:#fffffd\n",
    "byr:1937 iyr:2017 cid:147 hgt:183cm\n",
    "\n",
    "iyr:2013 ecl:amb cid:350 eyr:2023 pid:028048884\n",
    "hcl:#cfa07d byr:1929\n",
    "\n",
    "hcl:#ae17e1 iyr:2013\n",
    "eyr:2024\n",
    "ecl:brn pid:760753108 byr:1931\n",
    "hgt:179cm\n",
    "\n",
    "hcl:#cfa07d eyr:2025 pid:166559648\n",
    "iyr:2011 ecl:brn hgt:59in\n",
    "The first passport is valid - all eight fields are present. The second passport is invalid - it is missing hgt (the Height field).\n",
    "\n",
    "The third passport is interesting; the only missing field is cid, so it looks like data from North Pole Credentials, not a passport at all! Surely, nobody would mind if you made the system temporarily ignore missing cid fields. Treat this \"passport\" as valid.\n",
    "\n",
    "The fourth passport is missing two fields, cid and byr. Missing cid is fine, but missing any other field is not, so this passport is invalid.\n",
    "\n",
    "According to the above rules, your improved system would report 2 valid passports.\n",
    "\n",
    "Count the number of valid passports - those that have all required fields. Treat cid as optional. In your batch file, how many passports are valid?\n",
    "\n",
    "To begin, get your puzzle input.\n",
    "\n",
    "Answer: \n",
    " "
   ]
  },
  {
   "cell_type": "code",
   "execution_count": 98,
   "metadata": {},
   "outputs": [
    {
     "output_type": "display_data",
     "data": {
      "text/plain": "[]"
     },
     "metadata": {}
    }
   ],
   "source": [
    "import csv\n",
    "\n",
    "#Input data\n",
    "\n",
    "rawinput = list()\n",
    "\n",
    "with open('input.csv', newline='') as csvfile:\n",
    "    reader = csv.reader(csvfile, delimiter='\\n')\n",
    "    for row in reader:\n",
    "        rawinput.append(row)\n",
    "\n",
    "display(rawinput[-1])"
   ]
  },
  {
   "cell_type": "code",
   "execution_count": 99,
   "metadata": {},
   "outputs": [
    {
     "output_type": "display_data",
     "data": {
      "text/plain": "['pid:827837505 byr:1976 hgt:187cm iyr:2016 hcl:#fffffd eyr:2024',\n 'hgt:189cm byr:1987 pid:572028668 iyr:2014 hcl:#623a2f eyr:2028 ecl:amb',\n 'pid:#e9bf38 hcl:z iyr:2029 byr:2028 ecl:#18f71a hgt:174in eyr:2036',\n 'hcl:#cfa07d byr:1982 pid:573165334 ecl:gry eyr:2022 iyr:2012 hgt:180cm',\n 'cid:151 hcl:#c0946f ecl:brn hgt:66cm iyr:2013 pid:694421369 byr:1980 eyr:2029']"
     },
     "metadata": {}
    }
   ],
   "source": [
    "passportlist = list()\n",
    "personsID = ''\n",
    "\n",
    "for row in rawinput:\n",
    "    if row == []:\n",
    "        passportlist.append(personsID)\n",
    "        personsID = ''\n",
    "    else:\n",
    "        if personsID == '':\n",
    "             personsID += row[0]   \n",
    "        else:\n",
    "            personsID += ' ' + row[0]\n",
    "\n",
    "display(passportlist[0:5])"
   ]
  },
  {
   "cell_type": "code",
   "execution_count": 68,
   "metadata": {},
   "outputs": [
    {
     "output_type": "execute_result",
     "data": {
      "text/plain": [
       "'eyr:2024 pid:567528498 ecl:gry iyr:2012 byr:1990 hcl:#733820 hgt:193cm cid:293'"
      ]
     },
     "metadata": {},
     "execution_count": 68
    }
   ],
   "source": []
  },
  {
   "cell_type": "code",
   "execution_count": 100,
   "metadata": {},
   "outputs": [
    {
     "output_type": "display_data",
     "data": {
      "text/plain": "228"
     },
     "metadata": {}
    },
    {
     "output_type": "display_data",
     "data": {
      "text/plain": "30"
     },
     "metadata": {}
    }
   ],
   "source": [
    "import re\n",
    "\n",
    "characteristics = ['byr', 'iyr', 'eyr', 'hgt', 'hcl', 'ecl', 'pid']\n",
    "\n",
    "validIDs = 0\n",
    "invalidIDs = 0\n",
    "\n",
    "for i, person in enumerate(passportlist):\n",
    "    searches = list()\n",
    "    for char in characteristics:\n",
    "        searches.append(re.search(char, person))\n",
    "    if None not in searches:\n",
    "        validIDs += 1\n",
    "    else:\n",
    "        invalidIDs += 1\n",
    "        #display(i, person, searches)\n",
    "\n",
    "display(validIDs, invalidIDs)\n"
   ]
  },
  {
   "cell_type": "code",
   "execution_count": null,
   "metadata": {},
   "outputs": [],
   "source": [
    "--- Part Two ---\n",
    "The line is moving more quickly now, but you overhear airport security talking about how passports with invalid data are getting through. Better add some data validation, quick!\n",
    "\n",
    "You can continue to ignore the cid field, but each other field has strict rules about what values are valid for automatic validation:\n",
    "\n",
    "byr (Birth Year) - four digits; at least 1920 and at most 2002.\n",
    "iyr (Issue Year) - four digits; at least 2010 and at most 2020.\n",
    "eyr (Expiration Year) - four digits; at least 2020 and at most 2030.\n",
    "hgt (Height) - a number followed by either cm or in:\n",
    "If cm, the number must be at least 150 and at most 193.\n",
    "If in, the number must be at least 59 and at most 76.\n",
    "hcl (Hair Color) - a # followed by exactly six characters 0-9 or a-f.\n",
    "ecl (Eye Color) - exactly one of: amb blu brn gry grn hzl oth.\n",
    "pid (Passport ID) - a nine-digit number, including leading zeroes.\n",
    "cid (Country ID) - ignored, missing or not.\n",
    "Your job is to count the passports where all required fields are both present and valid according to the above rules. Here are some example values:\n",
    "\n",
    "byr valid:   2002\n",
    "byr invalid: 2003\n",
    "\n",
    "hgt valid:   60in\n",
    "hgt valid:   190cm\n",
    "hgt invalid: 190in\n",
    "hgt invalid: 190\n",
    "\n",
    "hcl valid:   #123abc\n",
    "hcl invalid: #123abz\n",
    "hcl invalid: 123abc\n",
    "\n",
    "ecl valid:   brn\n",
    "ecl invalid: wat\n",
    "\n",
    "pid valid:   000000001\n",
    "pid invalid: 0123456789\n",
    "Here are some invalid passports:\n",
    "\n",
    "eyr:1972 cid:100\n",
    "hcl:#18171d ecl:amb hgt:170 pid:186cm iyr:2018 byr:1926\n",
    "\n",
    "iyr:2019\n",
    "hcl:#602927 eyr:1967 hgt:170cm\n",
    "ecl:grn pid:012533040 byr:1946\n",
    "\n",
    "hcl:dab227 iyr:2012\n",
    "ecl:brn hgt:182cm pid:021572410 eyr:2020 byr:1992 cid:277\n",
    "\n",
    "hgt:59cm ecl:zzz\n",
    "eyr:2038 hcl:74454a iyr:2023\n",
    "pid:3556412378 byr:2007\n",
    "Here are some valid passports:\n",
    "\n",
    "pid:087499704 hgt:74in ecl:grn iyr:2012 eyr:2030 byr:1980\n",
    "hcl:#623a2f\n",
    "\n",
    "eyr:2029 ecl:blu cid:129 byr:1989\n",
    "iyr:2014 pid:896056539 hcl:#a97842 hgt:165cm\n",
    "\n",
    "hcl:#888785\n",
    "hgt:164cm byr:2001 iyr:2015 cid:88\n",
    "pid:545766238 ecl:hzl\n",
    "eyr:2022\n",
    "\n",
    "iyr:2010 hgt:158cm hcl:#b6652a ecl:blu byr:1944 eyr:2021 pid:093154719\n",
    "Count the number of valid passports - those that have all required fields and valid values. Continue to treat cid as optional. In your batch file, how many passports are valid?"
   ]
  },
  {
   "cell_type": "code",
   "execution_count": 105,
   "metadata": {},
   "outputs": [
    {
     "output_type": "display_data",
     "data": {
      "text/plain": "['pid:827837505 byr:1976 hgt:187cm iyr:2016 hcl:#fffffd eyr:2024']"
     },
     "metadata": {}
    }
   ],
   "source": [
    "passportlist = list()\n",
    "personsID = ''\n",
    "\n",
    "for row in rawinput:\n",
    "    if row == []:\n",
    "        passportlist.append(personsID)\n",
    "        personsID = ''\n",
    "    else:\n",
    "        if personsID == '':\n",
    "             personsID += row[0]   \n",
    "        else:\n",
    "            personsID += ' ' + row[0]\n",
    "\n",
    "display(passportlist[0:1])"
   ]
  },
  {
   "cell_type": "code",
   "execution_count": 133,
   "metadata": {},
   "outputs": [
    {
     "output_type": "execute_result",
     "data": {
      "text/plain": [
       "    byr   iyr   eyr    hgt      hcl      ecl        pid  cid\n",
       "0  1976  2016  2024  187cm  #fffffd      NaN  827837505  NaN\n",
       "1  1987  2014  2028  189cm  #623a2f      amb  572028668  NaN\n",
       "2  2028  2029  2036  174in        z  #18f71a    #e9bf38  NaN\n",
       "3  1982  2012  2022  180cm  #cfa07d      gry  573165334  NaN\n",
       "4  1980  2013  2029   66cm  #c0946f      brn  694421369  151"
      ],
      "text/html": "<div>\n<style scoped>\n    .dataframe tbody tr th:only-of-type {\n        vertical-align: middle;\n    }\n\n    .dataframe tbody tr th {\n        vertical-align: top;\n    }\n\n    .dataframe thead th {\n        text-align: right;\n    }\n</style>\n<table border=\"1\" class=\"dataframe\">\n  <thead>\n    <tr style=\"text-align: right;\">\n      <th></th>\n      <th>byr</th>\n      <th>iyr</th>\n      <th>eyr</th>\n      <th>hgt</th>\n      <th>hcl</th>\n      <th>ecl</th>\n      <th>pid</th>\n      <th>cid</th>\n    </tr>\n  </thead>\n  <tbody>\n    <tr>\n      <th>0</th>\n      <td>1976</td>\n      <td>2016</td>\n      <td>2024</td>\n      <td>187cm</td>\n      <td>#fffffd</td>\n      <td>NaN</td>\n      <td>827837505</td>\n      <td>NaN</td>\n    </tr>\n    <tr>\n      <th>1</th>\n      <td>1987</td>\n      <td>2014</td>\n      <td>2028</td>\n      <td>189cm</td>\n      <td>#623a2f</td>\n      <td>amb</td>\n      <td>572028668</td>\n      <td>NaN</td>\n    </tr>\n    <tr>\n      <th>2</th>\n      <td>2028</td>\n      <td>2029</td>\n      <td>2036</td>\n      <td>174in</td>\n      <td>z</td>\n      <td>#18f71a</td>\n      <td>#e9bf38</td>\n      <td>NaN</td>\n    </tr>\n    <tr>\n      <th>3</th>\n      <td>1982</td>\n      <td>2012</td>\n      <td>2022</td>\n      <td>180cm</td>\n      <td>#cfa07d</td>\n      <td>gry</td>\n      <td>573165334</td>\n      <td>NaN</td>\n    </tr>\n    <tr>\n      <th>4</th>\n      <td>1980</td>\n      <td>2013</td>\n      <td>2029</td>\n      <td>66cm</td>\n      <td>#c0946f</td>\n      <td>brn</td>\n      <td>694421369</td>\n      <td>151</td>\n    </tr>\n  </tbody>\n</table>\n</div>"
     },
     "metadata": {},
     "execution_count": 133
    }
   ],
   "source": [
    "import re\n",
    "import pandas as pd \n",
    "import numpy as np\n",
    "\n",
    "characteristics = ['byr', 'iyr', 'eyr', 'hgt', 'hcl', 'ecl', 'pid', 'cid']\n",
    "regexAdd = ':(\\S*)'\n",
    "\n",
    "from collections import defaultdict \n",
    "\n",
    "passportDict = defaultdict(list)\n",
    "\n",
    "for i, person in enumerate(passportlist):\n",
    "    for char in characteristics:\n",
    "        match = re.search(char + regexAdd, person)\n",
    "        if match:\n",
    "            passportDict[char].append(re.findall(char + regexAdd, person)[0])\n",
    "        else:\n",
    "            passportDict[char].append(np.nan)\n",
    "\n",
    "passportDF = pd.DataFrame.from_dict(passportDict)\n",
    "\n",
    "passportDF.head()"
   ]
  },
  {
   "cell_type": "code",
   "execution_count": null,
   "metadata": {},
   "outputs": [],
   "source": []
  }
 ]
}