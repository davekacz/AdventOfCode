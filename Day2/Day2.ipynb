{
 "metadata": {
  "language_info": {
   "codemirror_mode": {
    "name": "ipython",
    "version": 3
   },
   "file_extension": ".py",
   "mimetype": "text/x-python",
   "name": "python",
   "nbconvert_exporter": "python",
   "pygments_lexer": "ipython3",
   "version": "3.7.7-final"
  },
  "orig_nbformat": 2,
  "kernelspec": {
   "name": "python3",
   "display_name": "Python 3"
  }
 },
 "nbformat": 4,
 "nbformat_minor": 2,
 "cells": [
  {
   "source": [
    "--- Day 2: Password Philosophy ---\n",
    "Your flight departs in a few days from the coastal airport; the easiest way down to the coast from here is via toboggan.\n",
    "\n",
    "The shopkeeper at the North Pole Toboggan Rental Shop is having a bad day. \"Something's wrong with our computers; we can't log in!\" You ask if you can take a look.\n",
    "\n",
    "Their password database seems to be a little corrupted: some of the passwords wouldn't have been allowed by the Official Toboggan Corporate Policy that was in effect when they were chosen.\n",
    "\n",
    "To try to debug the problem, they have created a list (your puzzle input) of passwords (according to the corrupted database) and the corporate policy when that password was set.\n",
    "\n",
    "For example, suppose you have the following list:\n",
    "\n",
    "1-3 a: abcde\n",
    "1-3 b: cdefg\n",
    "2-9 c: ccccccccc\n",
    "Each line gives the password policy and then the password. The password policy indicates the lowest and highest number of times a given letter must appear for the password to be valid. For example, 1-3 a means that the password must contain a at least 1 time and at most 3 times.\n",
    "\n",
    "In the above example, 2 passwords are valid. The middle password, cdefg, is not; it contains no instances of b, but needs at least 1. The first and third passwords are valid: they contain one a or nine c, both within the limits of their respective policies.\n",
    "\n",
    "How many passwords are valid according to their policies?\n",
    "\n",
    "Your puzzle answer was 396.\n",
    "\n",
    "The first half of this puzzle is complete! It provides one gold star: *\n",
    "\n",
    "--- Part Two ---\n",
    "While it appears you validated the passwords correctly, they don't seem to be what the Official Toboggan Corporate Authentication System is expecting.\n",
    "\n",
    "The shopkeeper suddenly realizes that he just accidentally explained the password policy rules from his old job at the sled rental place down the street! The Official Toboggan Corporate Policy actually works a little differently.\n",
    "\n",
    "Each policy actually describes two positions in the password, where 1 means the first character, 2 means the second character, and so on. (Be careful; Toboggan Corporate Policies have no concept of \"index zero\"!) Exactly one of these positions must contain the given letter. Other occurrences of the letter are irrelevant for the purposes of policy enforcement.\n",
    "\n",
    "Given the same example list from above:\n",
    "\n",
    "1-3 a: abcde is valid: position 1 contains a and position 3 does not.\n",
    "1-3 b: cdefg is invalid: neither position 1 nor position 3 contains b.\n",
    "2-9 c: ccccccccc is invalid: both position 2 and position 9 contain c.\n",
    "How many passwords are valid according to the new interpretation of the policies?\n",
    "\n",
    "Answer: "
   ],
   "cell_type": "markdown",
   "metadata": {}
  },
  {
   "cell_type": "code",
   "execution_count": 2,
   "metadata": {},
   "outputs": [
    {
     "output_type": "stream",
     "name": "stdout",
     "text": [
      "First Problem, number of correct PWs: 396\nSecond Problem, number of correct PWs: 428\n"
     ]
    }
   ],
   "source": [
    "import csv\n",
    "\n",
    "#Get the data in a suitable format to parse\n",
    "\n",
    "passwords = list()\n",
    "with open('input.csv', newline='') as csvfile:\n",
    "    reader = csv.reader(csvfile, delimiter=' ')\n",
    "    for row in reader:\n",
    "        minpw, maxpw = row[0].split('-')\n",
    "        mod_row = [int(minpw), int(maxpw), row[1][0], row[2]]\n",
    "        passwords.append(mod_row)\n",
    "\n",
    "#First Problem\n",
    "\n",
    "correctPW = 0\n",
    "\n",
    "for pw in passwords:\n",
    "    if pw[3].count(pw[2]) >= pw[0] and pw[3].count(pw[2]) <= pw[1]:\n",
    "        correctPW += 1\n",
    "\n",
    "print('First Problem, number of correct PWs:', correctPW)\n",
    "\n",
    "#Second Problem\n",
    "\n",
    "correctPW = 0\n",
    "\n",
    "for pw in passwords:\n",
    "    if pw[3][pw[0]-1] == pw[2] and pw[3][pw[1]-1] != pw[2]:\n",
    "        correctPW += 1\n",
    "    elif pw[3][pw[0]-1] != pw[2] and pw[3][pw[1]-1] == pw[2]:\n",
    "        correctPW += 1\n",
    "\n",
    "print('Second Problem, number of correct PWs:', correctPW)\n",
    "\n"
   ]
  }
 ]
}